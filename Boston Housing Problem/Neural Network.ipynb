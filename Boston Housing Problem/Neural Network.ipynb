{
 "cells": [
  {
   "cell_type": "markdown",
   "metadata": {},
   "source": [
    "## 运行环境\n",
    "python 3.6.3\n",
    "\n",
    "Anaconda custom (64-bit)\n",
    "\n",
    "win10"
   ]
  },
  {
   "cell_type": "code",
   "execution_count": 1,
   "metadata": {},
   "outputs": [
    {
     "name": "stdout",
     "output_type": "stream",
     "text": [
      "my Neural Network import succeed\n"
     ]
    }
   ],
   "source": [
    "# _*_ coding:utf-8 _*_\n",
    "import numpy as np # 矩阵运算\n",
    "import matplotlib.pyplot as plt #\n",
    "import NN # 自己实现的神经网络\n",
    "import importlib # 方便模块修改后重新载入"
   ]
  },
  {
   "cell_type": "markdown",
   "metadata": {},
   "source": [
    "## 任务定义\n",
    "\n",
    "预测**波斯顿房价**\n",
    "\n",
    "----------------"
   ]
  },
  {
   "cell_type": "markdown",
   "metadata": {},
   "source": [
    "## 方法描述 - 非线性拟合\n",
    "\n",
    "使用**神经网络**进行参数学习\n",
    "\n",
    "$$\n",
    "损失函数: \\ Lost_i = \\frac 1 2 (y^{\\{i\\}}_p - y^{\\{i\\}}_r)^2\n",
    "$$\n",
    "\n",
    "* $y^{\\{i\\}}_p$ : 对于第i个样本的预测值(predict), 神经网络的输出\n",
    "* $y^{\\{i\\}}_r$ : 第i个样本的真实值(real)\n",
    "\n",
    "### L2正则化\n",
    "\n",
    "$$\n",
    "Cost = \\sum _{i=1} ^{m} Lost_i + \\frac {\\lambda} {2} \\sum _ W \\Vert {W} \\Vert ^2\n",
    "$$\n",
    "\n",
    "* $\\lambda$ : L2正则化系数, 默认为0.001\n",
    "* W : 网络层与网络层之间的权重矩阵\n",
    "* m : 训练样本的数量\n",
    "\n",
    "\n",
    "-------------------"
   ]
  },
  {
   "cell_type": "markdown",
   "metadata": {},
   "source": [
    "## 从文件到具体的输入数据\n",
    "\n",
    "$\n",
    "文件housing.data \\rightarrow X, Y\n",
    "$\n",
    "\n",
    "$\n",
    "X, Y \\rightarrow train\\_X, train\\_Y; test\\_X, test\\_Y\n",
    "$\n",
    "\n",
    "关于X和Y的解释如下\n",
    "\n",
    "### X, Y\n",
    "\n",
    "X为所有房子的属性;\n",
    "每列为单独的一个房子的属性, 有13个数据;\n",
    "\n",
    "整个矩阵有13行, 506列;\n",
    "X.shape = (13, 506)\n",
    "\n",
    "Y为506座房子的价格;\n",
    "Y.shape = (1, 506)\n",
    "\n",
    "### train_X, train_Y\n",
    "\n",
    "训练数据(约占80%)\n",
    "\n",
    "train_X.shape = (13, 406)\n",
    "\n",
    "train_Y.shape = (1, 406)\n",
    "\n",
    "### test_X, test_Y\n",
    "\n",
    "测试数据(约占20%)\n",
    "\n",
    "test_X.shape = (13, 100)\n",
    "\n",
    "test_Y.shape = (1, 100)"
   ]
  },
  {
   "cell_type": "code",
   "execution_count": 2,
   "metadata": {},
   "outputs": [
    {
     "name": "stdout",
     "output_type": "stream",
     "text": [
      "X shape:(13, 506)\n",
      "Y shape:(1, 506)\n",
      "train_X shape:(13, 406)\n",
      "train_Y shape:(1, 406)\n",
      "test_X shape:(13, 100)\n",
      "test_Y shape:(1, 100)\n"
     ]
    }
   ],
   "source": [
    "# 将类似\"2 3.3 4\"的字符串转为list[2, 3.4, 4]\n",
    "def stringLine2numbers(row):\n",
    "    assert(type(row) == str) # row必须是一个string\n",
    "    rowSplit = row.split() # 分割为字符串list\n",
    "    rowFloat = (map(float, rowSplit)) # 将list里的每个string转为float\n",
    "    return  list(rowFloat)# 返回list\n",
    "\n",
    "dataPath = \"./Housing Data Set/housing.data\" # 原始数据的相对路径\n",
    "dataString = \"\"\n",
    "with open(dataPath) as f:\n",
    "    dataString = f.readlines() # 读入全部行\n",
    "    \n",
    "# dataLists[i] 为第i个house相关的数据\n",
    "dataLists = list(map(stringLine2numbers, dataString))\n",
    "\n",
    "X = list(map(lambda lis:lis[:-1], dataLists)) # 每行取前13个数值, 即房子的属性\n",
    "Y = list(map(lambda lis:lis[-1], dataLists)) # 每行取最后1个数值, 即房价\n",
    "\n",
    "X = np.array(X).reshape(506, 13) # 从list转为numpy的array\n",
    "Y = np.array(Y).reshape(506, 1) # 从list转为numpy的array\n",
    "\n",
    "\n",
    "\n",
    "np.random.seed(1) # 打乱X和Y的随机数种子\n",
    "permutation = np.random.permutation(506) # 这里直接取506了, 因为数据只有506条\n",
    "\n",
    "train_per = permutation[:406]\n",
    "train_X = X[train_per,:]\n",
    "train_Y = Y[train_per,:]\n",
    "\n",
    "\n",
    "test_per = permutation[406:]\n",
    "test_X  = X[test_per,:]\n",
    "test_Y  = Y[test_per,:]\n",
    "\n",
    "#######################\n",
    "# 装置并输出shape\n",
    "\n",
    "X = X.T\n",
    "Y = Y.T\n",
    "print(\"X shape:\"+str(X.shape))\n",
    "print(\"Y shape:\"+str(Y.shape))\n",
    "\n",
    "train_X = train_X.T\n",
    "train_Y = train_Y.T\n",
    "print(\"train_X shape:\"+str(train_X.shape))\n",
    "print(\"train_Y shape:\"+str(train_Y.shape))\n",
    "\n",
    "test_X = test_X.T\n",
    "test_Y = test_Y.T\n",
    "print(\"test_X shape:\"+str(test_X.shape))\n",
    "print(\"test_Y shape:\"+str(test_Y.shape))"
   ]
  },
  {
   "cell_type": "markdown",
   "metadata": {},
   "source": [
    "### 初始化网络\n",
    "\n",
    "#### 网络层数及数量: 下方cell里的代码\n",
    "\n",
    "#### w和b\n",
    "\n",
    "$w = randn(L_i, L_{i-1}) \\times \\sqrt{\\frac 2 {L_{i-1}}}$\n",
    "\n",
    "$b = 0, shape = (L_i, 1)$\n",
    "\n",
    "* $L_i$ : 第i层网络的节点数量\n",
    "\n",
    "对应代码为\n",
    "\n",
    "```python\n",
    "self.parameters['W'+str(i)] = np.random.randn(layers[i],layers[i-1]) * np.sqrt(2 / layers[i-1])\n",
    "self.parameters['b'+str(i)] = np.zeros((layers[i],1))\n",
    "```\n",
    "\n",
    "#### L2正则化系数$\\lambda = 0.001$\n",
    "\n",
    "\n",
    "#### 不开启dropout\n",
    "\n",
    "\n",
    "#### 学习率\n",
    "\n",
    "恒定学习率，但是可以停下来，修改学习率后，继续训练\n",
    "\n",
    "手动控制学习率和迭代次数\n",
    "\n",
    "对每次的训练进行多重组合"
   ]
  },
  {
   "cell_type": "code",
   "execution_count": 6,
   "metadata": {},
   "outputs": [
    {
     "name": "stdout",
     "output_type": "stream",
     "text": [
      "layers info: [13, 100, 50, 13, 1]\n",
      "my Neural Network import succeed\n",
      "L2 regularition: lambda = 0.001\n",
      "open-dropout: False\n"
     ]
    }
   ],
   "source": [
    "np.random.seed(1) # 改变随机数种子, 方便复现bug\n",
    "data = {\n",
    "'trainX':train_X,\n",
    "'trainY':train_Y,\n",
    "'testX':test_X,\n",
    "'testY':test_Y\n",
    "}\n",
    "\n",
    "layers = [13, 100, 50, 13, 1]\n",
    "print('layers info:',layers)\n",
    "\n",
    "###################################################\n",
    "\n",
    "relu = lambda z:np.maximum(0.01 * z,z) # Relu 激活函数\n",
    "relu_deriv = lambda z,a:np.where(z > 0,1.0,0.01) # Relu 激活函数的导数\n",
    "sigmoid = lambda z:1/(1+np.exp(-z)) # sigmoid 激活函数\n",
    "sigmoid_deriv = lambda z,a:np.multiply(a,1-a) # sigmoid 激活函数的导数\n",
    "\n",
    "def myLostFunc(A, Y):\n",
    "    assert(A.shape == Y.shape),'A.shape != Y.shape'\n",
    "    lost = np.square(A - Y) / 2\n",
    "    return lost\n",
    "\n",
    "def computeCost(A, Y):\n",
    "    losts = myLostFunc(A, Y)\n",
    "    return np.mean(losts)\n",
    "\n",
    "# 最后一层的输出函数\n",
    "def mySquare(Z):\n",
    "    A = Z\n",
    "    return A\n",
    "\n",
    "# 最后一层的输出函数的导数\n",
    "def mySquare_deriv(Z, A, Y):\n",
    "    assert(A.shape == Y.shape),'A.shape is not same as Y.shape'\n",
    "    return A - Y\n",
    "\n",
    "def getFunction(layers): # 初始化function\n",
    "    function = {\n",
    "                'activation':{},\n",
    "                'derivative':{},\n",
    "                'lostFunction':myLostFunc,\n",
    "                'predictFunction':lambda A:A,\n",
    "                'accuracyFunction':computeCost\n",
    "                }\n",
    "    L = len(layers) - 1\n",
    "    for i in range(1,L):\n",
    "        function['activation'][i] = relu\n",
    "        function['derivative'][i] = relu_deriv\n",
    "    function['activation'][L] = mySquare\n",
    "    function['derivative'][L] = lambda Z,A,Y:mySquare_deriv(Z,A,Y)\n",
    "    return function\n",
    "\n",
    "function = getFunction(layers)\n",
    "importlib.reload(NN) # 重新import模块, 便于修改后重新import\n",
    "myNN = NN.NN(data, layers, function) # 初始化网络!!!!!!"
   ]
  },
  {
   "cell_type": "markdown",
   "metadata": {},
   "source": [
    "### 开始训练"
   ]
  },
  {
   "cell_type": "code",
   "execution_count": 7,
   "metadata": {},
   "outputs": [
    {
     "data": {
      "image/png": "[encoded data removed]",
      "text/plain": [
       "<matplotlib.figure.Figure at 0x24acd6eddd8>"
      ]
     },
     "metadata": {},
     "output_type": "display_data"
    },
    {
     "name": "stdout",
     "output_type": "stream",
     "text": [
      "--------------------\n",
      "train cost: 35.6965690716\n",
      "test cost: 32.140335305\n"
     ]
    }
   ],
   "source": [
    "# batchSize 为 406相当于对全体训练集进行了学习, 因为自己很久之前实现的train函数在使用时出了问题, \n",
    "# 暂时找不到bug在哪, 碰巧这个函数没有bug, 所以这里用miniBatchRandom这个函数\n",
    "# 但是不代表这里使用了mini batch这类方法\n",
    "costs =  myNN.miniBatchRandom(learningRate=1 * 1e-7, batchSize=406, batchTimes=1000, getCost=True)\n",
    "# 绘制cost函数曲线\n",
    "\n",
    "plt.plot(costs)\n",
    "plt.title('costs')\n",
    "plt.xlabel(\"iteration times\")\n",
    "plt.ylabel(\"cost\")\n",
    "plt.show()\n",
    "\n",
    "# 显示代价函数的值\n",
    "print('-'*20)\n",
    "print('train cost:',myNN.function['accuracyFunction'](myNN.predict(X = train_X),train_Y))\n",
    "print('test cost:',myNN.function['accuracyFunction'](myNN.predict(X = test_X),test_Y))"
   ]
  },
  {
   "cell_type": "markdown",
   "metadata": {},
   "source": [
    "## 可视化"
   ]
  },
  {
   "cell_type": "code",
   "execution_count": 8,
   "metadata": {},
   "outputs": [
    {
     "name": "stdout",
     "output_type": "stream",
     "text": [
      "对于训练集\n"
     ]
    },
    {
     "data": {
      "image/png": "[encoded data removed]",
      "text/plain": [
       "<matplotlib.figure.Figure at 0x24acc0e1198>"
      ]
     },
     "metadata": {},
     "output_type": "display_data"
    },
    {
     "name": "stdout",
     "output_type": "stream",
     "text": [
      "------------------------------\n",
      "对于测试集\n"
     ]
    },
    {
     "data": {
      "image/png": "[encoded data removed]",
      "text/plain": [
       "<matplotlib.figure.Figure at 0x24acefe5710>"
      ]
     },
     "metadata": {},
     "output_type": "display_data"
    }
   ],
   "source": [
    "# 可视化模型的效果\n",
    "# y轴代表房价, 有预测值以及实际值\n",
    "def my_predict_show(Y_predict, Y_real, cost):\n",
    "    plt.plot(Y_real, 'bo', label = \"real\")\n",
    "    plt.plot(Y_predict, 'ro', label = \"predict\")\n",
    "    plt.title(\"predict and real price\\n\" + \"cost : \" + str(cost))\n",
    "    plt.xlabel(\"house number\")\n",
    "    plt.ylabel(\"house price\")\n",
    "    plt.legend()\n",
    "    plt.show()\n",
    "\n",
    "print(\"对于训练集\")\n",
    "my_predict_show(myNN.predict(X = train_X).T, \\\n",
    "                train_Y.T, \\\n",
    "                myNN.function['accuracyFunction'](myNN.predict(X = train_X),train_Y))\n",
    "\n",
    "print(\"-\"*30)\n",
    "print(\"对于测试集\")\n",
    "my_predict_show(myNN.predict(X = test_X).T, \\\n",
    "                test_Y.T, \\\n",
    "                myNN.function['accuracyFunction'](myNN.predict(X = test_X),test_Y))\n"
   ]
  },
  {
   "cell_type": "markdown",
   "metadata": {
    "collapsed": true
   },
   "source": [
    "## 结果分析\n",
    "\n",
    "### 参数分析\n",
    "\n",
    "输入层为13\n",
    "\n",
    "隐层分别为100, 50, 13\n",
    "\n",
    "输出层为1\n",
    "\n",
    "L2正则化系数$\\lambda = 0.001$\n",
    "\n",
    "无dropout\n",
    "\n",
    "每次训练规模为整个训练集\n",
    "\n",
    "### 训练集测试集分析\n",
    "\n",
    "train cost: 35.6965690716\n",
    "\n",
    "test cost: 32.140335305\n",
    "\n",
    "偏差较小\n",
    "\n",
    "根据可视化的二维图, 在训练集上, 有不少房价较高的数据没有很好地拟合, 方差较大\n",
    "\n",
    "\n",
    "\n"
   ]
  },
  {
   "cell_type": "code",
   "execution_count": null,
   "metadata": {
    "collapsed": true
   },
   "outputs": [],
   "source": []
  }
 ],
 "metadata": {
  "kernelspec": {
   "display_name": "Python 3",
   "language": "python",
   "name": "python3"
  },
  "language_info": {
   "codemirror_mode": {
    "name": "ipython",
    "version": 3
   },
   "file_extension": ".py",
   "mimetype": "text/x-python",
   "name": "python",
   "nbconvert_exporter": "python",
   "pygments_lexer": "ipython3",
   "version": "3.6.3"
  }
 },
 "nbformat": 4,
 "nbformat_minor": 2
}
