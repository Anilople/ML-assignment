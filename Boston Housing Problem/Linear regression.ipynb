{
 "cells": [
  {
   "cell_type": "code",
   "execution_count": 1,
   "metadata": {
    "collapsed": true
   },
   "outputs": [],
   "source": [
    "# _*_ coding:utf-8 _*_\n",
    "import numpy as np\n",
    "import matplotlib.pyplot as plt"
   ]
  },
  {
   "cell_type": "code",
   "execution_count": 2,
   "metadata": {
    "collapsed": true
   },
   "outputs": [],
   "source": [
    "# 将类似\"2 3.3 4\"的字符串转为list[2, 3.4, 4]\n",
    "def stringLine2numbers(row):\n",
    "    assert(type(row) == str) # row必须是一个string\n",
    "    rowSplit = row.split() # 分割为字符串list\n",
    "    rowFloat = (map(float, rowSplit)) # 将list里的每个string转为float\n",
    "    return  list(rowFloat)# 返回list"
   ]
  },
  {
   "cell_type": "code",
   "execution_count": 3,
   "metadata": {
    "collapsed": true
   },
   "outputs": [],
   "source": [
    "dataPath = \"./Housing Data Set/housing.data\" # 原始数据的相对路径\n",
    "dataString = \"\"\n",
    "with open(dataPath) as f:\n",
    "    dataString = f.readlines() # 读入全部行\n",
    "    \n",
    "# dataLists[i] 为第i个house相关的数据\n",
    "dataLists = list(map(stringLine2numbers, dataString))"
   ]
  },
  {
   "cell_type": "code",
   "execution_count": 4,
   "metadata": {
    "collapsed": true
   },
   "outputs": [],
   "source": [
    "X = list(map(lambda lis:lis[:-1], dataLists)) # 每行取前13个数值, 即房子的属性\n",
    "Y = list(map(lambda lis:lis[-1], dataLists)) # 每行取最后1个数值, 即房价"
   ]
  },
  {
   "cell_type": "code",
   "execution_count": 5,
   "metadata": {
    "collapsed": true
   },
   "outputs": [],
   "source": [
    "X = np.array(X).reshape(506, 13) # 从list转为numpy的array\n",
    "Y = np.array(Y).reshape(506, 1) # 从list转为numpy的array"
   ]
  },
  {
   "cell_type": "markdown",
   "metadata": {},
   "source": [
    "运行到这里, 有2个符号在后边会被用到\n",
    "$\n",
    "X, \\ Y\n",
    "$\n",
    "\n",
    "关于X和Y的解释如下\n",
    "\n",
    "X为所有房子的属性;\n",
    "每行为单独的一个房子的属性, 有13个数据;\n",
    "\n",
    "整个矩阵有506行, 13列;\n",
    "X.shape = (506, 13)\n",
    "\n",
    "Y为506座房子的价格;\n",
    "Y.shape = (506, 1)"
   ]
  },
  {
   "cell_type": "code",
   "execution_count": 6,
   "metadata": {
    "collapsed": true
   },
   "outputs": [],
   "source": [
    "# X与Y的预处理\n",
    "def normalData(Matrix):\n",
    "    # Matrix -- 每一行为一个样本\n",
    "    #        -- shape = (m, size) , m为样本数量, size为样本属性的数量 \n",
    "    miu = np.mean(Matrix, axis = 0, keepdims=True) # 平均值, shape = (1, size)\n",
    "    sigma_square = np.var(Matrix, axis = 0, keepdims=True) # 方差, shape = (1, size)\n",
    "    sigma = np.sqrt(sigma_square)\n",
    "    assert(miu.shape == sigma.shape)\n",
    "    newMatrix = (Matrix - miu) / sigma\n",
    "    return newMatrix, miu, sigma\n",
    "\n",
    "X_normal, X_miu, X_sigma = normalData(X)\n",
    "Y_normal, Y_miu, Y_sigma = normalData(Y)\n",
    "# print(X_normal[505] * X_sigma + X_miu) # 数据检测\n",
    "# print(X_miu)\n",
    "# print(X_sigma)\n",
    "# print(Y_miu)\n",
    "# print(Y_sigma)\n",
    "# print(Y_normal * Y_sigma + Y_miu)"
   ]
  },
  {
   "cell_type": "code",
   "execution_count": 7,
   "metadata": {
    "collapsed": true
   },
   "outputs": [],
   "source": [
    "def minMaxData(Matrix):\n",
    "    # Matrix -- 每一行为一个样本\n",
    "    #        -- shape = (m, size) , m为样本数量, size为样本属性的数量 \n",
    "    M_min = np.min(Matrix, axis = 0) # 最小值, shape = (1, size)\n",
    "    M_max = np.max(Matrix, axis = 0) # 最小值, shape = (1, size)\n",
    "    M_min = M_min.reshape(1, -1)\n",
    "    M_max = M_max.reshape(1, -1)\n",
    "    newMatrix = (Matrix - M_min) / (M_max - M_min)\n",
    "    return newMatrix, M_min, M_max\n",
    "\n",
    "X_minmax, X_min, X_max = minMaxData(X)\n",
    "Y_minmax, Y_min, Y_max = minMaxData(Y)\n",
    "# print(X_minmax[0])\n",
    "# print(X_min)\n",
    "# print(X_max)"
   ]
  },
  {
   "cell_type": "markdown",
   "metadata": {},
   "source": [
    "### LRs_predict\n"
   ]
  },
  {
   "cell_type": "code",
   "execution_count": 18,
   "metadata": {
    "collapsed": true
   },
   "outputs": [],
   "source": [
    "# # 辅助函数, 多了偏置的参数b\n",
    "# def my_predict(X, w, b):\n",
    "#     assert(X.shape[1] == w.shape[0])\n",
    "#     Y_predict = np.dot(X, w) + b\n",
    "#     assert(Y_predict.shape[1] == 1)\n",
    "#     return Y_predict # 返回只有一列\n",
    "\n",
    "def LRs_predict(X, w):\n",
    "    # X -- shape = (m, 13)\n",
    "    # w -- shape = (14, 1)\n",
    "    #      为什么有14列呢? 因为最后一个为偏置b\n",
    "    X_row_num = X.shape[0] # 获取X有多少行\n",
    "    # newX.shape = (m, 14); 给添加一列全为1的向量到末尾\n",
    "    newX = np.column_stack((X, np.ones(X_row_num))) \n",
    "    Y_predict = np.dot(newX, w).reshape(-1, 1) # Y_predict.shape = (m, 1)\n",
    "    return Y_predict"
   ]
  },
  {
   "cell_type": "markdown",
   "metadata": {},
   "source": [
    "### LR_learn\n",
    "\n",
    "使用**梯度下降法**进行参数学习\n",
    "\n",
    "$$\n",
    "损失函数: \\ Lost_i = \\frac 1 2 (y^{\\{i\\}}_p - y^{\\{i\\}}_r)^2\n",
    "$$\n",
    "\n",
    "* $y^{\\{i\\}}_p$ : 对于第i个样本的预测值(predict), $y^{\\{i\\}}_p = X_i \\times w + b$, 右乘$w$\n",
    "* $y^{\\{i\\}}_r$ : 第i个样本的真实值(real)\n",
    "\n",
    "\n",
    "$$\n",
    "代价函数: \\ Cost = \\frac 1 m \\sum^{m}_{i=1}{Lost_i}\n",
    "$$\n",
    "\n",
    "* m : 训练样本的数量\n",
    "\n",
    "#### 梯度计算\n",
    "\n",
    "##### b\n",
    "$\\frac {\\partial y^{\\{i\\}}_p}{\\partial b} = 1$\n",
    "\n",
    "$$\n",
    "\\frac {\\partial C}{\\partial b} = \n",
    "\\frac 1 m \\sum^{m}_{i=1}{\\frac {\\partial{L_i}}{\\partial b}} =  \n",
    "\\frac 1 m \\sum^{m}_{i=1} [{(y^{\\{i\\}}_p - y^{\\{i\\}}_r)} \\frac {\\partial y^{\\{i\\}}_p}{\\partial b}] =\n",
    "\\frac 1 m \\sum^{m}_{i=1}{(y^{\\{i\\}}_p - y^{\\{i\\}}_r)} \n",
    "$$\n",
    "\n",
    "##### w\n",
    "\n",
    "$\\frac {\\partial y^{\\{i\\}}_p}{\\partial w_j} = X^T_{ij}\n",
    "\\rightarrow\n",
    "\\frac {\\partial y^{\\{i\\}}_p}{\\partial w} = X^T_i$\n",
    "\n",
    "$$\n",
    "\\frac {\\partial C}{\\partial w} = \n",
    "\\frac 1 m \\sum^{m}_{i=1}{\\frac {\\partial{L_i}}{\\partial w}} =  \n",
    "\\frac 1 m \\sum^{m}_{i=1}[{(y^{\\{i\\}}_p - y^{\\{i\\}}_r)} \\frac {\\partial y^{\\{i\\}}_p}{\\partial w}] =\n",
    "\\frac 1 m \\sum^{m}_{i=1}[{(y^{\\{i\\}}_p - y^{\\{i\\}}_r)} X^T_i]\n",
    "$$"
   ]
  },
  {
   "cell_type": "code",
   "execution_count": 14,
   "metadata": {
    "collapsed": true
   },
   "outputs": [],
   "source": [
    "# 计算w, b的梯度\n",
    "def calGradient(train_X, Y_predict, Y_real):\n",
    "    # train_X -- shape = (m, 13)\n",
    "    # Y_predict -- 预测值, shape = (m, 1)\n",
    "    # Y_real -- 真实房价值, shape = (m, 1)\n",
    "    assert(Y_predict.shape == Y_real.shape)\n",
    "    Y_difference = Y_predict - Y_real # 两个不同y的差值\n",
    "    db = np.mean(Y_difference) # 偏置b的梯度\n",
    "    dw = np.mean(np.dot(train_X.T, Y_difference), axis = 1) # 得到13个数值\n",
    "    dw = dw.reshape(-1, 1) # 转为只有1列\n",
    "    return dw, db\n",
    "\n",
    "# 计算代价Cost\n",
    "def computeCost(Y_predict, Y_real):\n",
    "    # Y_predict -- 预测值, shape = (m, 1)\n",
    "    # Y_real -- 真实房价值, shape = (m, 1)\n",
    "    assert(Y_predict.shape == Y_real.shape)\n",
    "    losts = np.square(Y_predict - Y) / 2 # 每个样本, 预测值和实际值之间的误差\n",
    "    cost = np.mean(losts) # 训练集的平均误差, 代价函数\n",
    "    return cost"
   ]
  },
  {
   "cell_type": "code",
   "execution_count": 34,
   "metadata": {
    "collapsed": true
   },
   "outputs": [],
   "source": [
    "# 返回参数\n",
    "# w -- shape = (14, 1)\n",
    "# costs -- 一个list, 每次迭代前的cost(训练集的代价函数)\n",
    "def learn(train_X, train_Y, rate, times):\n",
    "    # train_X -- 训练样本, shape = (m, 13)\n",
    "    # train_Y -- 训练标签, shape = (m, 1)\n",
    "    # rate    -- 学习率\n",
    "    # times   -- 迭代次数\n",
    "    np.random.seed(1) # 随机数种子\n",
    "    assert(type(rate) == float)\n",
    "    assert(type(times) == int)\n",
    "    w = np.random.randn(13, 1) * 0.01 # 权重向量\n",
    "    b = np.random.randn() # 偏置\n",
    "    costs = []\n",
    "    for i in range(times):\n",
    "        Y_predict = np.dot(train_X, w) + b\n",
    "        Y_real = train_Y\n",
    "        # 计算Cost\n",
    "        cost = computeCost(Y_predict, Y_real)\n",
    "        # print(\"cost after \"+str(i)+\" times: \"+str(cost))\n",
    "        costs.append(cost)\n",
    "        # 计算梯度\n",
    "        dw, db = calGradient(train_X, Y_predict, Y_real)\n",
    "        w -= rate * dw # 更新w\n",
    "        b -= rate * db # 更新b\n",
    "    \n",
    "    b = b.reshape(1,1)\n",
    "    w = np.row_stack((w, b)) # 将偏置b添加到w中\n",
    "    assert(w.shape[1] == 1)\n",
    "    return w, costs\n",
    "        "
   ]
  },
  {
   "cell_type": "code",
   "execution_count": 35,
   "metadata": {
    "collapsed": true
   },
   "outputs": [],
   "source": [
    "# X -- 保证数据为13列的矩阵\n",
    "# Y -- 保证数据为1列的矩阵\n",
    "def LR_learn(X, Y):\n",
    "    assert(type(X) == numpy.ndarray)\n",
    "    assert(type(Y) == numpy.ndarray)\n",
    "    assert(type(len(X.shape)) == 2 and X.shape[1] == 13), \"x's data size is wrong\"\n",
    "    assert(type(len(Y.shape)) == 2 and Y.shape[1] == 1), \"y's data size is wrong\"\n",
    "    np.random.seed(1) # 随机数种子\n",
    "    \n",
    "    rate = 1 * 1e-7 # 学习率\n",
    "    times = 500 # 迭代次数\n",
    "    w, costs = learn(X, Y, rate, times)\n",
    "    \n",
    "    return w # shape = (14, 1), 最后一个参数为偏置\n",
    "\n",
    "    "
   ]
  },
  {
   "cell_type": "code",
   "execution_count": 50,
   "metadata": {},
   "outputs": [
    {
     "name": "stdout",
     "output_type": "stream",
     "text": [
      "[[-0.05510319  0.1315361  -0.04314016 -0.00682874  0.01078428  0.04892543\n",
      "   0.06403521  0.00694244  0.00460922  0.0014115   0.06390321  0.04922637\n",
      "  -0.20017898 -0.38404234]]\n"
     ]
    },
    {
     "data": {
      "image/png": "[encoded data removed]",
      "text/plain": [
       "<matplotlib.figure.Figure at 0x1ddeaf98b38>"
      ]
     },
     "metadata": {},
     "output_type": "display_data"
    },
    {
     "data": {
      "image/png": "[encoded data removed]",
      "text/plain": [
       "<matplotlib.figure.Figure at 0x1ddeaf34080>"
      ]
     },
     "metadata": {},
     "output_type": "display_data"
    }
   ],
   "source": [
    "# my_X = np.array(range(13)).reshape(1, 13)\n",
    "# my_Y = np.array(3).reshape(1,1)\n",
    "w, costs = learn(X, Y, 1e-8, 2000)\n",
    "# w,b,costs = learn(X_normal, Y_normal, 1 * 1e-6, 30000)\n",
    "# w, costs = learn(X_minmax, Y_minmax, 1 * 1e-7, 500)\n",
    "\n",
    "print(w.T)\n",
    "plt.plot(costs)\n",
    "plt.show()\n",
    "\n",
    "# 下边是预测\n",
    "Y_predict = LRs_predict(X, w)\n",
    "# print(\"predict: \"+str(LRs_predict(X[0].reshape(1, 13), w, b) * Y_sigma + Y_miu))\n",
    "# Y_predict = LRs_predict(X, w, b) * Y_sigma + Y_miu\n",
    "# Y_predict = LRs_predict(X, w) * (Y_max - Y_min) + Y_min\n",
    "# print(LRs_predict(X, w).shape)\n",
    "# print(Y_max.shape)\n",
    "# print(Y_min.shape)\n",
    "\n",
    "plt.plot(Y, 'bo', label = \"real\")\n",
    "plt.plot(Y_predict, 'ro', label = \"predict\")\n",
    "plt.title(\"predict and real price\")\n",
    "plt.xlabel(\"house number\")\n",
    "plt.ylabel(\"house price\")\n",
    "plt.legend()\n",
    "plt.show()"
   ]
  },
  {
   "cell_type": "code",
   "execution_count": null,
   "metadata": {
    "collapsed": true
   },
   "outputs": [],
   "source": []
  }
 ],
 "metadata": {
  "kernelspec": {
   "display_name": "Python 3",
   "language": "python",
   "name": "python3"
  },
  "language_info": {
   "codemirror_mode": {
    "name": "ipython",
    "version": 3
   },
   "file_extension": ".py",
   "mimetype": "text/x-python",
   "name": "python",
   "nbconvert_exporter": "python",
   "pygments_lexer": "ipython3",
   "version": "3.6.3"
  }
 },
 "nbformat": 4,
 "nbformat_minor": 2
}
