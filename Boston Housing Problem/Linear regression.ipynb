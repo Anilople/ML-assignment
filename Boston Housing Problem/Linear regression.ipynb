{
 "cells": [
  {
   "cell_type": "code",
   "execution_count": 1,
   "metadata": {},
   "outputs": [],
   "source": [
    "# 运行环境, python 3.6.3, win10\n",
    "'''\n",
    "3.6.3 |Anaconda custom (64-bit)\n",
    "'''\n",
    "# _*_ coding:utf-8 _*_\n",
    "import numpy as np\n",
    "import matplotlib.pyplot as plt"
   ]
  },
  {
   "cell_type": "markdown",
   "metadata": {},
   "source": [
    "## 方法描述 - 梯度下降\n",
    "\n",
    "使用**梯度下降法**进行参数学习\n",
    "\n",
    "$$\n",
    "损失函数: \\ Lost_i = \\frac 1 2 (y^{\\{i\\}}_p - y^{\\{i\\}}_r)^2\n",
    "$$\n",
    "\n",
    "* $y^{\\{i\\}}_p$ : 对于第i个样本的预测值(predict), $y^{\\{i\\}}_p = X_i \\times w + b$, 右乘$w$\n",
    "* $y^{\\{i\\}}_r$ : 第i个样本的真实值(real)\n",
    "\n",
    "\n",
    "$$\n",
    "代价函数: \\ Cost = \\frac 1 m \\sum^{m}_{i=1}{Lost_i}\n",
    "$$\n",
    "\n",
    "* m : 训练样本的数量\n",
    "\n",
    "### 梯度计算\n",
    "\n",
    "#### b\n",
    "$\\frac {\\partial y^{\\{i\\}}_p}{\\partial b} = 1$\n",
    "\n",
    "$$\n",
    "\\frac {\\partial C}{\\partial b} = \n",
    "\\frac 1 m \\sum^{m}_{i=1}{\\frac {\\partial{L_i}}{\\partial b}} =  \n",
    "\\frac 1 m \\sum^{m}_{i=1} [{(y^{\\{i\\}}_p - y^{\\{i\\}}_r)} \\frac {\\partial y^{\\{i\\}}_p}{\\partial b}] =\n",
    "\\frac 1 m \\sum^{m}_{i=1}{(y^{\\{i\\}}_p - y^{\\{i\\}}_r)} \n",
    "$$\n",
    "\n",
    "#### w\n",
    "\n",
    "$\\frac {\\partial y^{\\{i\\}}_p}{\\partial w_j} = X^T_{ij}\n",
    "\\rightarrow\n",
    "\\frac {\\partial y^{\\{i\\}}_p}{\\partial w} = X^T_i$\n",
    "\n",
    "$$\n",
    "\\frac {\\partial C}{\\partial w} = \n",
    "\\frac 1 m \\sum^{m}_{i=1}{\\frac {\\partial{L_i}}{\\partial w}} =  \n",
    "\\frac 1 m \\sum^{m}_{i=1}[{(y^{\\{i\\}}_p - y^{\\{i\\}}_r)} \\frac {\\partial y^{\\{i\\}}_p}{\\partial w}] =\n",
    "\\frac 1 m \\sum^{m}_{i=1}[{(y^{\\{i\\}}_p - y^{\\{i\\}}_r)} X^T_i]\n",
    "$$\n",
    "\n",
    "### 具体实施\n",
    "\n",
    "1. **w和b** : 随机初始化向量w和偏置b, 使用`np.randn`\n",
    "\n",
    "2. **Y_predict** : 以w和b作为参数, X作为输入, 获取预测Y_predict\n",
    "\n",
    "3. **dw和db** : 根据X, Y, Y_predict来获取w和b的梯度dw和db\n",
    "\n",
    "4. **w和b** : 根据梯度dw和db, 以学习率rate来更新w和b, 具体是$w -= rate * dw, \\ b -= rate * db$\n",
    "\n",
    "5. 返回步骤2, 直到迭代次数足够.\n",
    "\n",
    "-------------------"
   ]
  },
  {
   "cell_type": "markdown",
   "metadata": {},
   "source": [
    "## 一些辅助函数\n",
    "\n",
    "* **calGradient** : 计算梯度\n",
    "\n",
    "* **computeCost** : 计算代价Cost\n",
    "\n",
    "* **learn** : 学习函数, 可传入**学习率**和**迭代次数**"
   ]
  },
  {
   "cell_type": "code",
   "execution_count": 2,
   "metadata": {
    "collapsed": true
   },
   "outputs": [],
   "source": [
    "# 计算w, b的梯度\n",
    "def calGradient(train_X, Y_predict, Y_real):\n",
    "    # train_X -- shape = (m, 13)\n",
    "    # Y_predict -- 预测值, shape = (m, 1)\n",
    "    # Y_real -- 真实房价值, shape = (m, 1)\n",
    "    assert(Y_predict.shape == Y_real.shape)\n",
    "    Y_difference = Y_predict - Y_real # 两个不同y的差值\n",
    "    db = np.mean(Y_difference) # 偏置b的梯度\n",
    "    dw = np.mean(np.dot(train_X.T, Y_difference), axis = 1) # 得到13个数值\n",
    "    dw = dw.reshape(-1, 1) # 转为只有1列\n",
    "    return dw, db\n",
    "\n",
    "# 计算代价Cost\n",
    "def computeCost(Y_predict, Y_real):\n",
    "    # Y_predict -- 预测值, shape = (m, 1)\n",
    "    # Y_real -- 真实房价值, shape = (m, 1)\n",
    "    assert(Y_predict.shape == Y_real.shape)\n",
    "    losts = np.square(Y_predict - Y_real) / 2 # 每个样本, 预测值和实际值之间的误差\n",
    "    cost = np.mean(losts) # 训练集的平均误差, 代价函数\n",
    "    return cost\n",
    "\n",
    "# 返回参数\n",
    "# w -- shape = (14, 1)\n",
    "# costs -- 一个list, 每次迭代前的cost(训练集的代价函数)\n",
    "def learn(train_X, train_Y, rate, times):\n",
    "    # train_X -- 训练样本, shape = (m, 13)\n",
    "    # train_Y -- 训练标签, shape = (m, 1)\n",
    "    # rate    -- 学习率\n",
    "    # times   -- 迭代次数\n",
    "    np.random.seed(1) # 随机数种子\n",
    "    assert(type(rate) == float)\n",
    "    assert(type(times) == int)\n",
    "    w = np.random.randn(13, 1) * 0.01 / np.sqrt(13) # 权重向量\n",
    "    b = np.random.randn() # 偏置\n",
    "    costs = []\n",
    "    for i in range(times):\n",
    "        Y_predict = np.dot(train_X, w) + b\n",
    "        Y_real = train_Y\n",
    "        # 计算Cost\n",
    "        cost = computeCost(Y_predict, Y_real)\n",
    "        # print(\"cost after \"+str(i)+\" times: \"+str(cost))\n",
    "        costs.append(cost)\n",
    "        # 计算梯度\n",
    "        dw, db = calGradient(train_X, Y_predict, Y_real)\n",
    "        w -= rate * dw # 更新w\n",
    "        b -= rate * db # 更新b\n",
    "    \n",
    "    b = b.reshape(1,1)\n",
    "    w = np.row_stack((w, b)) # 将偏置b添加到w中\n",
    "    assert(w.shape[1] == 1)\n",
    "    return w, costs\n",
    "        "
   ]
  },
  {
   "cell_type": "markdown",
   "metadata": {},
   "source": [
    "## 从文件到具体的输入数据\n",
    "\n",
    "$\n",
    "文件housing.data \\rightarrow X, Y\n",
    "$\n",
    "\n",
    "$\n",
    "X, Y \\rightarrow train\\_X, train\\_Y; test\\_X, test\\_Y\n",
    "$\n",
    "\n",
    "关于X和Y的解释如下\n",
    "\n",
    "### X, Y\n",
    "\n",
    "X为所有房子的属性;\n",
    "每行为单独的一个房子的属性, 有13个数据;\n",
    "\n",
    "整个矩阵有506行, 13列;\n",
    "X.shape = (506, 13)\n",
    "\n",
    "Y为506座房子的价格;\n",
    "Y.shape = (506, 1)\n",
    "\n",
    "### train_X, train_Y\n",
    "\n",
    "训练数据(约占80%)\n",
    "\n",
    "train_X.shape = (406, 13)\n",
    "\n",
    "train_Y.shape = (406, 1)\n",
    "\n",
    "### test_X, test_Y\n",
    "\n",
    "测试数据(约占20%)\n",
    "\n",
    "test_X.shape = (100, 13)\n",
    "\n",
    "test_Y.shape = (100, 1)"
   ]
  },
  {
   "cell_type": "code",
   "execution_count": 3,
   "metadata": {},
   "outputs": [
    {
     "name": "stdout",
     "output_type": "stream",
     "text": [
      "X shape:(506, 13)\n",
      "Y shape:(506, 1)\n",
      "train_X shape:(406, 13)\n",
      "train_Y shape:(406, 1)\n",
      "test_X shape:(100, 13)\n",
      "test_Y shape:(100, 1)\n"
     ]
    }
   ],
   "source": [
    "# 将类似\"2 3.3 4\"的字符串转为list[2, 3.4, 4]\n",
    "def stringLine2numbers(row):\n",
    "    assert(type(row) == str) # row必须是一个string\n",
    "    rowSplit = row.split() # 分割为字符串list\n",
    "    rowFloat = (map(float, rowSplit)) # 将list里的每个string转为float\n",
    "    return  list(rowFloat)# 返回list\n",
    "\n",
    "dataPath = \"./Housing Data Set/housing.data\" # 原始数据的相对路径\n",
    "dataString = \"\"\n",
    "with open(dataPath) as f:\n",
    "    dataString = f.readlines() # 读入全部行\n",
    "    \n",
    "# dataLists[i] 为第i个house相关的数据\n",
    "dataLists = list(map(stringLine2numbers, dataString))\n",
    "\n",
    "X = list(map(lambda lis:lis[:-1], dataLists)) # 每行取前13个数值, 即房子的属性\n",
    "Y = list(map(lambda lis:lis[-1], dataLists)) # 每行取最后1个数值, 即房价\n",
    "\n",
    "X = np.array(X).reshape(506, 13) # 从list转为numpy的array\n",
    "Y = np.array(Y).reshape(506, 1) # 从list转为numpy的array\n",
    "\n",
    "print(\"X shape:\"+str(X.shape))\n",
    "print(\"Y shape:\"+str(Y.shape))\n",
    "\n",
    "np.random.seed(1) # 打乱X和Y的随机数种子\n",
    "permutation = np.random.permutation(506) # 这里直接取506了, 因为数据只有506条\n",
    "\n",
    "train_per = permutation[:406]\n",
    "train_X = X[train_per,:]\n",
    "train_Y = Y[train_per,:]\n",
    "print(\"train_X shape:\"+str(train_X.shape))\n",
    "print(\"train_Y shape:\"+str(train_Y.shape))\n",
    "\n",
    "test_per = permutation[406:]\n",
    "test_X  = X[test_per,:]\n",
    "test_Y  = Y[test_per,:]\n",
    "print(\"test_X shape:\"+str(test_X.shape))\n",
    "print(\"test_Y shape:\"+str(test_Y.shape))"
   ]
  },
  {
   "cell_type": "markdown",
   "metadata": {},
   "source": [
    "## LRs_predict\n",
    "\n",
    "### 输入\n",
    "\n",
    "* X : shape = (m, 13)\n",
    "* w : shape = (14, 1)\n",
    "\n",
    "为什么w有14列呢? 因为最后一个为偏置b\n",
    "\n",
    "由于X只有13列, w有14行, 在计算前, 会将X的列进行扩充, \n",
    "填上一个全为1的列向量到矩阵X的最右边, 使X变成14列\n",
    "\n",
    "### 输出\n",
    "\n",
    "* Y_predict : shape = (m, 1)\n"
   ]
  },
  {
   "cell_type": "code",
   "execution_count": 4,
   "metadata": {
    "collapsed": true
   },
   "outputs": [],
   "source": [
    "# 返回参数\n",
    "# Y_predict -- shape = (m, 1)\n",
    "#           -- 房价, 1列向量\n",
    "def LRs_predict(X, w):\n",
    "    # X -- shape = (m, 13)\n",
    "    # w -- shape = (14, 1)\n",
    "    #      为什么有14列呢? 因为最后一个为偏置b\n",
    "    X_row_num = X.shape[0] # 获取X有多少行\n",
    "    # newX.shape = (m, 14);\n",
    "    # 给添加一列全为1的向量到末尾\n",
    "    newX = np.column_stack((X, np.ones(X_row_num))) \n",
    "    Y_predict = np.dot(newX, w).reshape(-1, 1) # Y_predict.shape = (m, 1)\n",
    "    return Y_predict"
   ]
  },
  {
   "cell_type": "markdown",
   "metadata": {},
   "source": [
    "## LR_learn\n",
    "\n",
    "### 输入\n",
    "\n",
    "* X : shape = (m, 13)\n",
    "* Y : shape = (m, 1)\n",
    "\n",
    "\n",
    "\n",
    "### 输出\n",
    "\n",
    "* w : shape = (14, 1)\n",
    "\n",
    "为什么w有14列呢? 因为最后一个为偏置b\n",
    "\n",
    "### 内置参数\n",
    "\n",
    "* w 的初始化 : `w = np.random.randn(13, 1) * 0.01 / np.sqrt(13)`(在函数`learn`中)\n",
    "* b 的初始化 : `b = np.random.randn()`(在函数`learn`中)\n",
    "* 学习率rate(在函数`LR_learn`中)\n",
    "* 迭代次数times(在函数`LR_learn`中)"
   ]
  },
  {
   "cell_type": "code",
   "execution_count": 5,
   "metadata": {
    "collapsed": true
   },
   "outputs": [],
   "source": [
    "# X -- 保证数据为13列的矩阵\n",
    "# Y -- 保证数据为1列的矩阵\n",
    "def LR_learn(X, Y):\n",
    "    assert(type(X) == np.ndarray)\n",
    "    assert(type(Y) == np.ndarray)\n",
    "    assert(len(X.shape) == 2 and X.shape[1] == 13), \"X shape:\"+str(X.shape)\n",
    "    assert(len(Y.shape) == 2 and Y.shape[1] == 1), \"Y shape:\"+str(Y.shape)\n",
    "    np.random.seed(1) # 随机数种子\n",
    "    \n",
    "    rate = 1 * 1e-9 # 学习率\n",
    "    times = 300000 # 迭代次数\n",
    "    w, costs = learn(X, Y, rate, times)\n",
    "    plt.plot(costs) # 画出代价函数 -- 迭代次数图\n",
    "    plt.xlabel(\"Iteration times\")\n",
    "    plt.ylabel(\"cost\")\n",
    "    plt.title(\"cost function\")\n",
    "    plt.show() # 显示图片\n",
    "    return w # shape = (14, 1), 最后一个参数为偏置"
   ]
  },
  {
   "cell_type": "code",
   "execution_count": 6,
   "metadata": {},
   "outputs": [],
   "source": [
    "# 可视化模型的效果\n",
    "# y轴代表房价, 有预测值以及实际值\n",
    "def my_predict_show(X, Y, w):\n",
    "    Y_predict = LRs_predict(X, w)\n",
    "    plt.plot(Y, 'bo', label = \"real\")\n",
    "    plt.plot(Y_predict, 'ro', label = \"predict\")\n",
    "    cost = computeCost(Y_predict, Y)\n",
    "    plt.title(\"predict and real price\\n\" + \"cost : \" + str(cost))\n",
    "    plt.xlabel(\"house number\")\n",
    "    plt.ylabel(\"house price\")\n",
    "    plt.legend()\n",
    "    plt.show()"
   ]
  },
  {
   "cell_type": "markdown",
   "metadata": {},
   "source": [
    "## 模型训练 - 得到参数w和代价函数图"
   ]
  },
  {
   "cell_type": "code",
   "execution_count": 7,
   "metadata": {},
   "outputs": [
    {
     "data": {
      "image/png": "[encoded data removed]",
      "text/plain": [
       "<matplotlib.figure.Figure at 0x1abb8108080>"
      ]
     },
     "metadata": {},
     "output_type": "display_data"
    }
   ],
   "source": [
    "w = LR_learn(train_X, train_Y)"
   ]
  },
  {
   "cell_type": "markdown",
   "metadata": {},
   "source": [
    "## 性能分析 - 在训练集和测试集上的表现\n",
    "\n",
    "通过散点图, 将预测值与实际值进行对比\n",
    "\n",
    "### 训练集\n",
    "\n",
    "train_X, train_Y"
   ]
  },
  {
   "cell_type": "code",
   "execution_count": 8,
   "metadata": {},
   "outputs": [
    {
     "name": "stdout",
     "output_type": "stream",
     "text": [
      "perfomance on train data!\n"
     ]
    },
    {
     "data": {
      "image/png": "[encoded data removed]",
      "text/plain": [
       "<matplotlib.figure.Figure at 0x1abb81089e8>"
      ]
     },
     "metadata": {},
     "output_type": "display_data"
    }
   ],
   "source": [
    "print(\"perfomance on train data!\")\n",
    "my_predict_show(train_X, train_Y, w)"
   ]
  },
  {
   "cell_type": "markdown",
   "metadata": {},
   "source": [
    "### 测试集\n",
    "\n",
    "test_X, test_Y"
   ]
  },
  {
   "cell_type": "code",
   "execution_count": 9,
   "metadata": {},
   "outputs": [
    {
     "name": "stdout",
     "output_type": "stream",
     "text": [
      "perfomance on test data!\n"
     ]
    },
    {
     "data": {
      "image/png": "[encoded data removed]",
      "text/plain": [
       "<matplotlib.figure.Figure at 0x1abb8108048>"
      ]
     },
     "metadata": {},
     "output_type": "display_data"
    }
   ],
   "source": [
    "print(\"perfomance on test data!\")\n",
    "my_predict_show(test_X, test_Y, w)"
   ]
  },
  {
   "cell_type": "markdown",
   "metadata": {},
   "source": [
    "## 总结\n",
    "\n",
    "在\n",
    "* w 的初始化 : `w = np.random.randn(13, 1) * 0.01 / np.sqrt(13)`(在函数`learn`中)\n",
    "* b 的初始化 : `b = np.random.randn()`(在函数`learn`中)\n",
    "* 学习率rate(在函数`LR_learn`中) : 1 * 1e-9\n",
    "* 迭代次数times(在函数`LR_learn`中) : 300000\n",
    "的参数下, \n",
    "\n",
    "模型在训练集上的cost = 22.528, 根据散点图来看, 除少数数据没有很好拟合, 整体来看拟合程度尚可接受\n",
    "\n",
    "在测试集上cost = 22.343, 与训练集上的cost差别不超过0.2, 说明偏差较小"
   ]
  },
  {
   "cell_type": "code",
   "execution_count": null,
   "metadata": {
    "collapsed": true
   },
   "outputs": [],
   "source": []
  }
 ],
 "metadata": {
  "kernelspec": {
   "display_name": "Python 3",
   "language": "python",
   "name": "python3"
  },
  "language_info": {
   "codemirror_mode": {
    "name": "ipython",
    "version": 3
   },
   "file_extension": ".py",
   "mimetype": "text/x-python",
   "name": "python",
   "nbconvert_exporter": "python",
   "pygments_lexer": "ipython3",
   "version": "3.6.3"
  }
 },
 "nbformat": 4,
 "nbformat_minor": 2
}
