{
 "cells": [
  {
   "cell_type": "markdown",
   "metadata": {},
   "source": [
    "## 运行环境\n",
    "python 3.6.3\n",
    "\n",
    "Anaconda custom (64-bit)\n",
    "\n",
    "win10"
   ]
  },
  {
   "cell_type": "code",
   "execution_count": 1,
   "metadata": {
    "collapsed": true
   },
   "outputs": [],
   "source": [
    "import numpy as np # 矩阵运算\n",
    "import matplotlib.pyplot as plt # 绘图\n",
    "from PIL import Image # 显示图片\n",
    "# from functools import reduce"
   ]
  },
  {
   "attachments": {},
   "cell_type": "markdown",
   "metadata": {},
   "source": [
    "## 任务定义\n",
    "\n",
    "Character recognition (digits) data\n",
    "\n",
    "26个手写英文字符识别\n",
    "\n",
    "使用全连接的神经网络\n",
    "\n",
    "加入正则化, dropout, 并且使用random mini batch 加快训练速度\n",
    "\n",
    "--------------------------"
   ]
  },
  {
   "cell_type": "markdown",
   "metadata": {},
   "source": [
    "## 输入数据定义trainX, trainY, testY, testX\n",
    "\n",
    "### 预处理数据\n",
    "\n",
    "处理后,\n",
    "```python\n",
    "trainX.shape = (128, 47010) # fold 0~8\n",
    "trainY.shape = (26, 47010)  # fold 0~8\n",
    "testY.shape = (26, 5142)    # fold 9\n",
    "testX.shape = (128, 5142)   # fold 9\n",
    "```\n",
    "\n",
    "#### 数据含义\n",
    "\n",
    "如英文名, train代表训练集, test代表测试集, X代表图片数据, Y代表图片标签\n",
    "```python\n",
    "trainX[:,i]会得到shape = (128,) 的一列数据, 代表一张图片\n",
    "testY[:,i]会得到shape = (26,) 的一列数据, 代表一个标签\n",
    "```\n",
    "\n",
    "\n",
    "## 载入训练需要的数据\n",
    "\n",
    "### 辅助函数"
   ]
  },
  {
   "cell_type": "code",
   "execution_count": 2,
   "metadata": {
    "collapsed": true
   },
   "outputs": [],
   "source": [
    "# 对于每行数据, 定义一个函数来处理\n",
    "# parameters : row -- 一行手写体数据\n",
    "# return : 返回2个参数, \n",
    "# attribute -- 手写体的属性\n",
    "# tuple(imageData) -- bool数组的图片, size为128\n",
    "\n",
    "def getImageArray(row):\n",
    "    assert(type(row)==str),'parameter is not a string'\n",
    "    row = row.split() # split by tab, i.e '\\t'\n",
    "    attribute = row[:6] # before image\n",
    "    imageData = row[6:] # image\n",
    "    imageData = map(lambda c:c == '1',imageData) # get the bool data\n",
    "    return attribute,tuple(imageData) # list of str , tuple of bool\n",
    "\n",
    "# char -> tuple of bool\n",
    "def char2label(char):\n",
    "    letters = range(26)\n",
    "    letters = map(lambda num:chr(ord('a')+num),letters) # map [0,25] -> ['a','z']\n",
    "    letters = map(lambda c:c==char,letters) # ['a','z'] -> [bool]\n",
    "    return tuple(letters)\n",
    "\n",
    "# tuple of bool -> Image object\n",
    "def bool2image(boolArray):\n",
    "    assert(len(boolArray) == 128),'length is not 128 is'+str(len(boolArray))\n",
    "    ans = tuple(map(lambda x:255 if x else 0,boolArray)) # (bool.) -> (int,)\n",
    "    ans = np.array(ans) # (int,) -> numpy.array object\n",
    "    assert(ans.shape == (128,)),'shape is wrong, it\\'s not' + str(ans.shape)\n",
    "    ans = ans.reshape(16,8) # reshape to correct size\n",
    "    return Image.fromarray(ans) # 使用plt.imshow(im) 直接从array中显示图像\n",
    "\n",
    "'''\n",
    "tuple -> numpy.array\n",
    "suppose there are n elements in tuple,\n",
    "and every element have same size m,\n",
    "then return a array with shape(m,n),\n",
    "i.e every element map to a column of numpy.array\n",
    "'''\n",
    "def tuples2array(t):\n",
    "    assert(type(t) == tuple),'parameter is not a tuple'\n",
    "    n = len(t) # n elements in t\n",
    "    m = len(t[0]) # any element in t have size m\n",
    "    # if length of arr is m, the get a array of shape (m,1)\n",
    "    toColumnArray = lambda element:np.array(element,dtype = np.float16).reshape(m,1) # watch out here, the type of data\n",
    "    arrays = tuple(map(toColumnArray,t))\n",
    "    matrix = np.concatenate(arrays,axis = 1) # matrix[i] = t[i] now\n",
    "    # axis = 1 mean add n column to be a matrix\n",
    "    assert(matrix.shape == (m,n)),'matrix\\' shape is wrong'\n",
    "    return matrix\n",
    "\n",
    "# ((bool),(bool)) -> (narray,narray)\n",
    "def fold2set(fold):\n",
    "    labelArray = tuple(map(lambda t:t[0],fold)) # ((bool),(bool)) -> ((bool)), take first\n",
    "    labelArray = tuples2array(labelArray) # ((bool)) -> narray\n",
    "    imageArray = tuple(map(lambda t:t[1],fold)) # ((bool),(bool)) -> ((bool)), take second\n",
    "    imageArray = tuples2array(imageArray) # ((bool)) -> narray\n",
    "    return labelArray,imageArray"
   ]
  },
  {
   "cell_type": "markdown",
   "metadata": {},
   "source": [
    "### 对数据进行预处理\n",
    "将每行的代表的手写体字母, 变为2个bool元组, label和imageData\n",
    "\n",
    "并根据fold对数据进行分类\n",
    "\n",
    "`dataFold[i]` 代表fold为i的数据集, 数据类型为list,list里边每个element的数据类型为(label,imageData)\n",
    "\n",
    "* label 为tuple, 长度为26, element的数据类型为bool, 且仅有1个element的值为True, 其余的为False\n",
    "\n",
    "* imageData 为tuple, 长度为128, element的数据类型为bool, 可代表一张letter图片"
   ]
  },
  {
   "cell_type": "code",
   "execution_count": 3,
   "metadata": {
    "collapsed": true
   },
   "outputs": [],
   "source": [
    "data = None # 存所有数据的变量\n",
    "with open('letter.data') as f:\n",
    "    data = f.readlines() # 一次读入所有行\n",
    "# data 中的每一行对应一个手写体字母\n",
    "\n",
    "dataFold = list(map(lambda x:[],range(10))) # 根据flod来放置数据, 有10个空列表[], \n",
    "# 即dataFold = [[], [], [], [], [], [], [], [], [], []]\n",
    "\n",
    "# dataFold[i] 表示 1个存了多张图片的list\n",
    "# 每个数据为1个二元组, 即 (label,imageData) -- label 表示字母标识tuple 26, imageData代表图像像素值,tuple 128\n",
    "for row in data:\n",
    "    attribute,imageData = getImageArray(row)\n",
    "    index = int(attribute[-1])\n",
    "    label = char2label(attribute[1])\n",
    "    dataFold[index].append((label,imageData))"
   ]
  },
  {
   "cell_type": "markdown",
   "metadata": {},
   "source": [
    "### 获取训练数据和测试数据\n",
    "* dataFold : dataFold[i] 代表 flod 为 i 的数据集\n",
    "* fold2set(dataFold[i]) 返回Y和X, 即标签和输入数据"
   ]
  },
  {
   "cell_type": "code",
   "execution_count": 5,
   "metadata": {},
   "outputs": [
    {
     "name": "stdout",
     "output_type": "stream",
     "text": [
      "trainX.shape = (128, 47010) fold 0~8\n",
      "trainY.shape = (26, 47010) fold 0~8\n",
      "testY.shape = (26, 5142) fold 9\n",
      "testX.shape = (128, 5142) fold 9\n"
     ]
    }
   ],
   "source": [
    "trainY,trainX = fold2set(dataFold[0] + dataFold[1] + dataFold[2] + dataFold[3] + dataFold[4] \\\n",
    "                        + dataFold[5] + dataFold[6] + dataFold[7] + dataFold[8]) # 训练集\n",
    "print('trainX.shape =',trainX.shape,'fold 0~8')\n",
    "print('trainY.shape =',trainY.shape,'fold 0~8')\n",
    "\n",
    "testY,testX = fold2set(dataFold[9]) # 测试集\n",
    "print('testY.shape =',testY.shape,'fold 9')\n",
    "print('testX.shape =',testX.shape,'fold 9')\n",
    "\n",
    "def normalization(X):\n",
    "    assert(type(X) == np.ndarray),'X is not a numpy array'\n",
    "    return (X - np.mean(X,axis = 0,keepdims=True)) / np.std(X,axis = 0,keepdims=True)\n",
    "\n",
    "# trainX = normalization(trainX) # 归一化\n",
    "# print('trainX 已被归一化')"
   ]
  },
  {
   "cell_type": "markdown",
   "metadata": {},
   "source": [
    "------------------------------------\n",
    "\n",
    "## 方法描述\n",
    "\n",
    "### 激活函数\n",
    "\n",
    "隐层都使用Relu激活函数, 输出层使用softmax\n",
    "\n",
    "### 损失函数(使用了交叉熵) (Extra!)\n",
    "\n",
    "$$\n",
    "对于每个数据, 使用交叉熵, Lost = - \\sum _{j=0} ^{25} y_j \\ln a_j\n",
    "$$\n",
    "\n",
    "* $y_j$ : 实际值, 0或1\n",
    "* $\\ln a_j$ : 激活值(预测值), 小数\n",
    "\n",
    "### L2正则化\n",
    "\n",
    "$$\n",
    "Cost = \\sum _{i=1} ^{m} Lost_i + \\frac {\\lambda} {2} \\sum _ W \\Vert {W} \\Vert ^2\n",
    "$$\n",
    "\n",
    "* $\\lambda$ : L2正则化系数, 默认为0.001\n",
    "* W : 网络层与网络层之间的权重矩阵\n",
    "\n",
    "\n",
    "### dropout (Extra!)\n",
    "\n",
    "有2个dropout\n",
    "\n",
    "* 在隐层(hidden layers)上的dropout\n",
    "* 在输入层(input layers)上的dropout\n",
    "\n",
    "### random mini batch (Extra!)\n",
    "\n",
    "为了加快训练速度, 使用了随机mini batch\n",
    "\n",
    "可调batch size\n",
    "\n",
    "即在每次迭代中, 会从训练集中随机挑选128个样本以及其对应的标签来进行正向传播, 反向传播, 更新参数\n",
    "\n",
    "### 载入自己实现的神经网络模块\n"
   ]
  },
  {
   "cell_type": "code",
   "execution_count": null,
   "metadata": {
    "collapsed": true
   },
   "outputs": [],
   "source": [
    "import os\n",
    "import importlib # 使用这个可以重新import模块\n",
    "import NN # 自己写的神经网络模块"
   ]
  },
  {
   "cell_type": "markdown",
   "metadata": {},
   "source": [
    "### 初始化网络\n",
    "\n",
    "#### 网络层数及数量: 下方cell里的代码\n",
    "\n",
    "#### w和b\n",
    "\n",
    "$w = randn(L_i, L_{i-1}) \\times \\sqrt{\\frac 2 {L_{i-1}}}$\n",
    "\n",
    "$b = 0, shape = (L_i, 1)$\n",
    "\n",
    "* $L_i$ : 第i层网络的节点数量\n",
    "\n",
    "对应代码为\n",
    "\n",
    "```python\n",
    "self.parameters['W'+str(i)] = np.random.randn(layers[i],layers[i-1]) * np.sqrt(2 / layers[i-1])\n",
    "self.parameters['b'+str(i)] = np.zeros((layers[i],1))\n",
    "```\n",
    "\n",
    "#### L2正则化系数$\\lambda = 0.001$\n",
    "\n",
    "\n",
    "\n",
    "#### 不开启dropout\n",
    "\n",
    "#### mini bath size : 下方代码\n",
    "\n",
    "#### 学习率\n",
    "\n",
    "恒定学习率，但是可以停下来，修改学习率后，继续训练\n",
    "\n",
    "手动控制学习率和迭代次数\n",
    "\n",
    "对每次的训练进行多重组合"
   ]
  },
  {
   "cell_type": "code",
   "execution_count": 24,
   "metadata": {},
   "outputs": [
    {
     "name": "stdout",
     "output_type": "stream",
     "text": [
      "layers info: [128, 800, 500, 26]\n",
      "my Neural Network import succeed\n",
      "L2 regularition: lambda = 0.001\n",
      "open-dropout: False\n"
     ]
    }
   ],
   "source": [
    "np.random.seed(1) # 改变随机数种子, 方便复现bug\n",
    "data = {\n",
    "'trainX':trainX,\n",
    "'trainY':trainY,\n",
    "'testX':testX,\n",
    "'testY':testY\n",
    "}\n",
    "\n",
    "layers = [128, 800, 500 ,26]\n",
    "print('layers info:',layers)\n",
    "\n",
    "# hy = {\n",
    "#     'open-dropout': True,\n",
    "#     'dropout': 0.5,\n",
    "#     'dropout-input': 0.7\n",
    "# }\n",
    "\n",
    "###################################################\n",
    "\n",
    "relu = lambda z:np.maximum(0.01 * z,z) # Relu 激活函数\n",
    "relu_deriv = lambda z,a:np.where(z > 0,1.0,0.01) # Relu 激活函数的导数\n",
    "sigmoid = lambda z:1/(1+np.exp(-z)) # sigmoid 激活函数\n",
    "sigmoid_deriv = lambda z,a:np.multiply(a,1-a) # sigmoid 激活函数的导数\n",
    "\n",
    "def lostFunc(A,Y):\n",
    "    assert(A.shape == Y.shape),'A.shape != Y.shape'\n",
    "    # A and Y are matrix, but we just want to operation on column, so use axis = 0\n",
    "    ylna = np.multiply(Y,np.log(A+1e-10)) # add 1e-10 to forbidden np.log(0)\n",
    "    return -np.sum(ylna,axis = 0,keepdims=True) # remember add minus symbol \"-\"\n",
    "    \n",
    "def softmax(Z): # Z is a column vector, but we need to handle when Z is a matrix, use axis = 0\n",
    "    maxNumber = np.max(Z,axis = 0,keepdims=True)\n",
    "    assert(Z.shape[1] == maxNumber.shape[1])\n",
    "    Z -= maxNumber\n",
    "    Zexp = np.exp(Z)\n",
    "    return Zexp / np.sum(Zexp,axis = 0,keepdims=True)\n",
    "\n",
    "def softmax_deriv(Z,A,Y): # softmax 的导数\n",
    "    assert(A.shape == Y.shape),'A.shape is not same as Y.shape'\n",
    "    return A - Y\n",
    "\n",
    "def getFunction(layers): # 初始化function\n",
    "    function = {\n",
    "                'activation':{},\n",
    "                'derivative':{},\n",
    "                'lostFunction':lostFunc, # lambda a,y:np.sum(np.multiply(-y,np.log(a)),axis = 0), # (AL,Y) -> Lost(AL,Y)\n",
    "                'predictFunction':lambda A:A>=np.max(A,axis = 0),\n",
    "                'accuracyFunction':lambda A,Y:1.0/Y.shape[1] * np.sum((np.sum(A==Y,axis = 0,keepdims=True) == 26))\n",
    "                }\n",
    "    L = len(layers) - 1\n",
    "    for i in range(1,L):\n",
    "        function['activation'][i] = relu\n",
    "        function['derivative'][i] = relu_deriv\n",
    "    function['activation'][L] = softmax\n",
    "    function['derivative'][L] = lambda Z,A,Y:softmax_deriv(Z,A,Y)\n",
    "    return function\n",
    "\n",
    "function = getFunction(layers)\n",
    "importlib.reload(NN) # 重新import模块, 便于修改后重新import\n",
    "myNN = NN.NN(data, layers, function) # 初始化网络!!!!!!"
   ]
  },
  {
   "cell_type": "markdown",
   "metadata": {},
   "source": [
    "### 开始训练\n",
    "\n",
    "学习率为`learningRate`, 阶梯式降低\n",
    "\n",
    "batchSize = 256\n",
    "\n",
    "每次的迭代次数不同"
   ]
  },
  {
   "cell_type": "code",
   "execution_count": 25,
   "metadata": {},
   "outputs": [
    {
     "data": {
      "image/png": "[encoded data removed]",
      "text/plain": [
       "<matplotlib.figure.Figure at 0x1c582093da0>"
      ]
     },
     "metadata": {},
     "output_type": "display_data"
    },
    {
     "name": "stdout",
     "output_type": "stream",
     "text": [
      "--------------------\n",
      "train accuracy: 0.842522867475\n",
      "test accuracy: 0.812524309607\n",
      "Wall time: 1min 25s\n"
     ]
    }
   ],
   "source": [
    "costs = myNN.miniBatchRandom(learningRate=0.5,batchSize=256,batchTimes=100,getCost=True)\n",
    "costs = costs + myNN.miniBatchRandom(learningRate=0.2,batchSize=256,batchTimes=100,getCost=True)\n",
    "costs = costs + myNN.miniBatchRandom(learningRate=0.1,batchSize=256,batchTimes=100,getCost=True)\n",
    "costs = costs + myNN.miniBatchRandom(learningRate=0.05,batchSize=256,batchTimes=100,getCost=True)\n",
    "costs = costs + myNN.miniBatchRandom(learningRate=0.001,batchSize=256,batchTimes=200,getCost=True)\n",
    "costs = costs + myNN.miniBatchRandom(learningRate=0.0001,batchSize=256,batchTimes=500,getCost=True)\n",
    "# costs = costs + myNN.miniBatchRandom(learningRate=0.0000001,batchSize=128,batchTimes=300,getCost=True)\n",
    "\n",
    "# 绘制cost函数曲线\n",
    "\n",
    "plt.plot(costs)\n",
    "plt.title('costs')\n",
    "plt.xlabel(\"iteration times\")\n",
    "plt.ylabel(\"cost\")\n",
    "plt.show()\n",
    "\n",
    "# 在预测时候，将输入的dropout删除\n",
    "if \"dropout-input\" in myNN.hyperParameters: \n",
    "    print('delete dropout in input')\n",
    "    myNN.hyperParameters.pop('dropout-input')\n",
    "else:\n",
    "    pass\n",
    "\n",
    "print('-'*20)\n",
    "print('train accuracy:',myNN.function['accuracyFunction'](myNN.predict(X = trainX),trainY))\n",
    "print('test accuracy:',myNN.function['accuracyFunction'](myNN.predict(X = testX),testY))"
   ]
  },
  {
   "cell_type": "markdown",
   "metadata": {},
   "source": [
    "## 测试自己画的图片\n",
    "\n",
    "会打开自己本地画的一张名为“number.bmp”的图片\n",
    "\n",
    "然后用训练好的神经网络来看看这个图片应该被归类到哪个数字"
   ]
  },
  {
   "cell_type": "code",
   "execution_count": 18,
   "metadata": {},
   "outputs": [
    {
     "name": "stdout",
     "output_type": "stream",
     "text": [
      "[[ True False False False False False False False False False False False\n",
      "  False False False False False False False False False False False False\n",
      "  False False]]\n",
      "predict is: a\n"
     ]
    },
    {
     "data": {
      "image/png": "[encoded data removed]",
      "text/plain": [
       "<matplotlib.figure.Figure at 0x1c581ea0080>"
      ]
     },
     "metadata": {},
     "output_type": "display_data"
    }
   ],
   "source": [
    "myImage = Image.open('test.bmp') # 打开图片\n",
    "plt.subplot(121)\n",
    "plt.imshow(myImage) # 显示图片\n",
    "plt.title('origin picture')\n",
    "\n",
    "plt.subplot(122)\n",
    "myImage = myImage.resize((8,16),Image.ANTIALIAS) # 重置大小, 宽度为8, 高度为16\n",
    "plt.imshow(myImage) # 显示图片\n",
    "plt.title('after resize')\n",
    "\n",
    "\n",
    "myImageArr = np.array(myImage) # 从图片获取 array\n",
    "# print(myImageArr) # 输出array, 测试是否正确\n",
    "testIm = np.sum(myImageArr,axis = 2) # RGB 值相加\n",
    "# print('testIm',testIm)\n",
    "testIm128 = (testIm > 100).astype(np.float16).reshape(128,1) # 重置array为训练数据的size\n",
    "letterPre = myNN.predict(X = testIm128)\n",
    "print(letterPre.T)\n",
    "for i in range(26):\n",
    "    if letterPre[i,0]:\n",
    "        print(\"predict is: \" + str(chr(ord('a')+i)))\n",
    "plt.show()"
   ]
  },
  {
   "cell_type": "markdown",
   "metadata": {
    "collapsed": true
   },
   "source": [
    "## 结果分析\n",
    "\n",
    "训练结果并不是很理想, 正确率不是很高, 有待开展进一步的工作\n",
    "\n",
    "### hyperparameters分析\n",
    "\n",
    "输入层为128\n",
    "\n",
    "隐层从第1层到最后1层分别为\n",
    "\n",
    "输出层为26\n",
    "\n",
    "L2正则化中的lambda系数为0.001\n",
    "\n",
    "无dropout\n",
    "\n",
    "### 训练集分析与测试集分析\n",
    "\n",
    "训练集上的正确率为`0.842522867475`\n",
    "\n",
    "测试集上的正确率为`0.812524309607`\n",
    "\n",
    "不得不说, 这个结果让人不是很满意\n",
    "\n",
    "首先, 训练集没有达到很好的拟合, 因为正确率只有84%左右, 方差比较大\n",
    "\n",
    "然后测试集的争取率与训练集相差了3个百分点, 说明偏差比较大"
   ]
  },
  {
   "cell_type": "code",
   "execution_count": null,
   "metadata": {
    "collapsed": true
   },
   "outputs": [],
   "source": []
  }
 ],
 "metadata": {
  "kernelspec": {
   "display_name": "Python 3",
   "language": "python",
   "name": "python3"
  },
  "language_info": {
   "codemirror_mode": {
    "name": "ipython",
    "version": 3
   },
   "file_extension": ".py",
   "mimetype": "text/x-python",
   "name": "python",
   "nbconvert_exporter": "python",
   "pygments_lexer": "ipython3",
   "version": "3.6.3"
  }
 },
 "nbformat": 4,
 "nbformat_minor": 2
}
